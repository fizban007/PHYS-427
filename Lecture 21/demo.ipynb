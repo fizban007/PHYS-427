{
 "cells": [
  {
   "cell_type": "code",
   "execution_count": 8,
   "metadata": {},
   "outputs": [],
   "source": [
    "import matplotlib\n",
    "matplotlib.rcParams['text.usetex'] = True\n",
    "matplotlib.rcParams['font.family'] = 'serf'\n",
    "import matplotlib.pyplot as plt\n",
    "import numpy as np"
   ]
  },
  {
   "cell_type": "code",
   "execution_count": 54,
   "metadata": {},
   "outputs": [],
   "source": [
    "def solve_ftcs(f, v, dx, dt):\n",
    "    f_next = np.zeros(len(f))\n",
    "    f_next = f - v * dt / 2.0 / dx * (np.roll(f,-1) - np.roll(f, 1))\n",
    "    return f_next\n",
    "\n",
    "def solve_lax(f, v, dx, dt):\n",
    "    f_next = np.zeros(len(f))\n",
    "    f_next = 0.5 * (np.roll(f, 1) + np.roll(f, -1)) - v * dt / 2.0 / dx * (np.roll(f,-1) - np.roll(f, 1))\n",
    "    return f_next\n",
    "\n",
    "def solve_upwind(f, v, dx, dt):\n",
    "    # f_next = np.zeros(len(f))\n",
    "    f_next = f - v * dt / dx * (f - np.roll(f, 1))\n",
    "    return f_next\n",
    "\n",
    "def solve_leapfrog(f, f1, v, dx, dt):\n",
    "    f_next = np.zeros(len(f))\n",
    "    f_next = f1 - v * dt / dx * (np.roll(f,-1) - np.roll(f, 1))\n",
    "    return f_next\n",
    "\n",
    "def solve_lax_wendroff(f, v, dx, dt):\n",
    "    f1 = 0.5 * (np.roll(f, 1) + f) - v * dt / 2.0 / dx * (f - np.roll(f, 1))\n",
    "    f2 = 0.5 * (f + np.roll(f, -1)) - v * dt / 2.0 / dx * (np.roll(f, -1) - f)\n",
    "    f_next = f - v * dt / dx * (f2 - f1)\n",
    "    return f_next"
   ]
  },
  {
   "cell_type": "code",
   "execution_count": 52,
   "metadata": {},
   "outputs": [],
   "source": [
    "nx = 300\n",
    "lx = 1.0\n",
    "xs = np.linspace(0, lx, nx)\n",
    "dx = xs[1] - xs[0]\n",
    "dt = 0.9 * lx / nx\n",
    "\n",
    "# f1 = np.exp(-((xs - 0.5) / 0.1)**2)\n",
    "f1 = np.where((xs < 0.45) & (xs > 0.4), 1.0, 0.0)\n",
    "f = solve_upwind(f1, 1.0, dx, dt)\n",
    "# f = f1\n",
    "\n",
    "freq = 3\n",
    "for i in range(nx * 2):\n",
    "    if i % freq == 0:\n",
    "        plt.plot(xs, f1)\n",
    "        ax = plt.gca()\n",
    "        ax.set_xlabel(\"$x$\")\n",
    "        ax.set_ylabel(\"$u$\")\n",
    "        ax.set_ylim(-2.0, 3.0)\n",
    "        ax.set_xlim(0.0, 1.0)\n",
    "        ax.axhline(0.0, color='r', ls='--')\n",
    "        plt.savefig(\"fig%03d.png\" % (i/freq))\n",
    "        plt.close()\n",
    "    f_prev = f\n",
    "    f = solve_leapfrog(f, f1, 1.0, dx, dt)\n",
    "    f1 = f_prev\n",
    "    # f = solve_lax(f, 1.0, dx, dt)"
   ]
  },
  {
   "cell_type": "code",
   "execution_count": 55,
   "metadata": {},
   "outputs": [],
   "source": [
    "nx = 300\n",
    "lx = 1.0\n",
    "xs = np.linspace(0, lx, nx)\n",
    "dx = xs[1] - xs[0]\n",
    "dt = lx / nx\n",
    "\n",
    "# f = np.exp(-((xs - 0.5) / 0.1)**2)\n",
    "f = np.where((xs < 0.45) & (xs > 0.4), 1.0, 0.0)\n",
    "\n",
    "freq = 3\n",
    "for i in range(nx * 2):\n",
    "    if i % freq == 0:\n",
    "        plt.plot(xs, f)\n",
    "        ax = plt.gca()\n",
    "        ax.set_xlabel(\"$x$\")\n",
    "        ax.set_ylabel(\"$u$\")\n",
    "        ax.set_ylim(-2.0, 3.0)\n",
    "        ax.set_xlim(0.0, 1.0)\n",
    "        ax.axhline(0.0, color='r', ls='--')\n",
    "        plt.savefig(\"fig%03d.png\" % (i/freq))\n",
    "        plt.close()\n",
    "    f = solve_lax_wendroff(f, 1.0, dx, dt)"
   ]
  },
  {
   "cell_type": "code",
   "execution_count": null,
   "metadata": {},
   "outputs": [],
   "source": []
  }
 ],
 "metadata": {
  "kernelspec": {
   "display_name": "Python 3",
   "language": "python",
   "name": "python3"
  },
  "language_info": {
   "codemirror_mode": {
    "name": "ipython",
    "version": 3
   },
   "file_extension": ".py",
   "mimetype": "text/x-python",
   "name": "python",
   "nbconvert_exporter": "python",
   "pygments_lexer": "ipython3",
   "version": "3.11.5"
  }
 },
 "nbformat": 4,
 "nbformat_minor": 2
}

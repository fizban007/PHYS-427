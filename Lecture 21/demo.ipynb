{
 "cells": [
  {
   "cell_type": "code",
   "execution_count": 8,
   "metadata": {},
   "outputs": [],
   "source": [
    "import matplotlib\n",
    "matplotlib.rcParams['text.usetex'] = True\n",
    "matplotlib.rcParams['font.family'] = 'serf'\n",
    "import matplotlib.pyplot as plt\n",
    "import numpy as np"
   ]
  },
  {
   "cell_type": "code",
   "execution_count": 56,
   "metadata": {},
   "outputs": [],
   "source": [
    "def solve_ftcs(f, v, dx, dt):\n",
    "    f_next = np.zeros(len(f))\n",
    "    f_next = f - v * dt / 2.0 / dx * (np.roll(f,-1) - np.roll(f, 1))\n",
    "    return f_next\n",
    "\n",
    "def solve_lax(f, v, dx, dt):\n",
    "    f_next = np.zeros(len(f))\n",
    "    f_next = 0.5 * (np.roll(f, 1) + np.roll(f, -1)) - v * dt / 2.0 / dx * (np.roll(f,-1) - np.roll(f, 1))\n",
    "    return f_next\n",
    "\n",
    "def solve_upwind(f, v, dx, dt):\n",
    "    # f_next = np.zeros(len(f))\n",
    "    f_next = f - v * dt / dx * (f - np.roll(f, 1))\n",
    "    return f_next\n",
    "\n",
    "def solve_leapfrog(f, f1, v, dx, dt):\n",
    "    f_next = np.zeros(len(f))\n",
    "    f_next = f1 - v * dt / dx * (np.roll(f,-1) - np.roll(f, 1))\n",
    "    return f_next\n",
    "\n",
    "def solve_lax_wendroff(f, v, dx, dt):\n",
    "    f1 = 0.5 * (np.roll(f, 1) + f) - v * dt / 2.0 / dx * (f - np.roll(f, 1))\n",
    "    f2 = 0.5 * (f + np.roll(f, -1)) - v * dt / 2.0 / dx * (np.roll(f, -1) - f)\n",
    "    f_next = f - v * dt / dx * (f2 - f1)\n",
    "    return f_next"
   ]
  },
  {
   "cell_type": "code",
   "execution_count": 77,
   "metadata": {},
   "outputs": [],
   "source": [
    "def solve_lax_2d(f, vx, vy, dx, dy, dt):\n",
    "    f_next = 0.25 * (np.roll(f, 1, axis=0) + np.roll(f, -1, axis=0) +\n",
    "                     np.roll(f, 1, axis=1) + np.roll(f, -1, axis=1)) - \\\n",
    "              vx * dt / 2.0 / dx * (np.roll(f,-1, axis=1) - np.roll(f, 1, axis=1)) - \\\n",
    "              vy * dt / 2.0 / dy * (np.roll(f,-1, axis=0) - np.roll(f, 1, axis=0))\n",
    "    return f_next\n",
    "\n",
    "def upwind_2d(f, vx, vy, dx, dy, dt):\n",
    "    f_next = f - vx * dt / dx * (f - np.roll(f, 1, axis=0)) - vy * dt / dy * (f - np.roll(f, 1, axis=1))\n",
    "    return f_next\n",
    "\n",
    "def solve_lax_wendroff_2d(f, vx, vy, dx, dy, dt):\n",
    "    f1 = 0.5 * (np.roll(f, 1, axis=0) + f) - vx * dt / 2.0 / dx * (f - np.roll(f, 1, axis=0))\n",
    "    f2 = 0.5 * (f + np.roll(f, -1, axis=0)) - vx * dt / 2.0 / dx * (np.roll(f, -1, axis=0) - f)\n",
    "    f3 = 0.5 * (np.roll(f, 1, axis=1) + f) - vy * dt / 2.0 / dy * (f - np.roll(f, 1, axis=1))\n",
    "    f4 = 0.5 * (f + np.roll(f, -1, axis=1)) - vy * dt / 2.0 / dy * (np.roll(f, -1, axis=1) - f)\n",
    "    f_next = f - vx * dt / dx * (f2 - f1) - vy * dt / dy * (f4 - f3)\n",
    "    return f_next"
   ]
  },
  {
   "cell_type": "code",
   "execution_count": 76,
   "metadata": {},
   "outputs": [
    {
     "name": "stdout",
     "output_type": "stream",
     "text": [
      "[[0.00787402 0.00787402 0.00787402 ... 0.00787402 0.00787402 0.00787402]\n",
      " [0.01574803 0.01574803 0.01574803 ... 0.01574803 0.01574803 0.01574803]\n",
      " [0.02362205 0.02362205 0.02362205 ... 0.02362205 0.02362205 0.02362205]\n",
      " ...\n",
      " [0.99212598 0.99212598 0.99212598 ... 0.99212598 0.99212598 0.99212598]\n",
      " [1.         1.         1.         ... 1.         1.         1.        ]\n",
      " [0.         0.         0.         ... 0.         0.         0.        ]]\n"
     ]
    }
   ],
   "source": [
    "print(np.roll(y, -1, axis=0))"
   ]
  },
  {
   "cell_type": "code",
   "execution_count": 78,
   "metadata": {},
   "outputs": [],
   "source": [
    "nx = 128\n",
    "ny = 128\n",
    "lx = 1.0\n",
    "ly = 1.0\n",
    "dx = lx / nx\n",
    "dy = ly / ny\n",
    "\n",
    "xs = np.linspace(0, lx, nx)\n",
    "ys = np.linspace(0, ly, ny)\n",
    "x, y = np.meshgrid(xs, ys)\n",
    "\n",
    "f = np.exp(-((x - 0.5)**2 + (y - 0.5)**2) / 0.05**2)\n",
    "vx = 1.5\n",
    "vy = 1.0\n",
    "\n",
    "dt = 1.0 * dx / np.sqrt(vx**2 + vy**2) / np.sqrt(2.0)\n",
    "\n",
    "freq = 5\n",
    "for n in range(nx * 2):\n",
    "    f = solve_lax_2d(f, vx, vy, dx, dy, dt)\n",
    "    if n % freq == 0:\n",
    "        plt.pcolor(x, y, f)\n",
    "        plt.colorbar()\n",
    "        plt.savefig(f'fig{n//freq:03d}.png', dpi=300, bbox_inches='tight')\n",
    "        plt.close()\n"
   ]
  },
  {
   "cell_type": "code",
   "execution_count": 57,
   "metadata": {},
   "outputs": [
    {
     "ename": "KeyboardInterrupt",
     "evalue": "",
     "output_type": "error",
     "traceback": [
      "\u001b[0;31m---------------------------------------------------------------------------\u001b[0m",
      "\u001b[0;31mAttributeError\u001b[0m                            Traceback (most recent call last)",
      "File \u001b[0;32m/usr/lib/python3.11/site-packages/PIL/ImageFile.py:515\u001b[0m, in \u001b[0;36m_save\u001b[0;34m(im, fp, tile, bufsize)\u001b[0m\n\u001b[1;32m    514\u001b[0m \u001b[39mtry\u001b[39;00m:\n\u001b[0;32m--> 515\u001b[0m     fh \u001b[39m=\u001b[39m fp\u001b[39m.\u001b[39;49mfileno()\n\u001b[1;32m    516\u001b[0m     fp\u001b[39m.\u001b[39mflush()\n",
      "\u001b[0;31mAttributeError\u001b[0m: '_idat' object has no attribute 'fileno'",
      "\nDuring handling of the above exception, another exception occurred:\n",
      "\u001b[0;31mKeyboardInterrupt\u001b[0m                         Traceback (most recent call last)",
      "\u001b[1;32m/home/alex/Academic/Courses/Physics 427 Computational Physics/Lectures/Lecture 21/demo.ipynb Cell 3\u001b[0m line \u001b[0;36m2\n\u001b[1;32m     <a href='vscode-notebook-cell:/home/alex/Academic/Courses/Physics%20427%20Computational%20Physics/Lectures/Lecture%2021/demo.ipynb#W2sZmlsZQ%3D%3D?line=19'>20</a>\u001b[0m     ax\u001b[39m.\u001b[39mset_xlim(\u001b[39m0.0\u001b[39m, \u001b[39m1.0\u001b[39m)\n\u001b[1;32m     <a href='vscode-notebook-cell:/home/alex/Academic/Courses/Physics%20427%20Computational%20Physics/Lectures/Lecture%2021/demo.ipynb#W2sZmlsZQ%3D%3D?line=20'>21</a>\u001b[0m     ax\u001b[39m.\u001b[39maxhline(\u001b[39m0.0\u001b[39m, color\u001b[39m=\u001b[39m\u001b[39m'\u001b[39m\u001b[39mr\u001b[39m\u001b[39m'\u001b[39m, ls\u001b[39m=\u001b[39m\u001b[39m'\u001b[39m\u001b[39m--\u001b[39m\u001b[39m'\u001b[39m)\n\u001b[0;32m---> <a href='vscode-notebook-cell:/home/alex/Academic/Courses/Physics%20427%20Computational%20Physics/Lectures/Lecture%2021/demo.ipynb#W2sZmlsZQ%3D%3D?line=21'>22</a>\u001b[0m     plt\u001b[39m.\u001b[39;49msavefig(\u001b[39m\"\u001b[39;49m\u001b[39mfig\u001b[39;49m\u001b[39m%03d\u001b[39;49;00m\u001b[39m.png\u001b[39;49m\u001b[39m\"\u001b[39;49m \u001b[39m%\u001b[39;49m (i\u001b[39m/\u001b[39;49mfreq))\n\u001b[1;32m     <a href='vscode-notebook-cell:/home/alex/Academic/Courses/Physics%20427%20Computational%20Physics/Lectures/Lecture%2021/demo.ipynb#W2sZmlsZQ%3D%3D?line=22'>23</a>\u001b[0m     plt\u001b[39m.\u001b[39mclose()\n\u001b[1;32m     <a href='vscode-notebook-cell:/home/alex/Academic/Courses/Physics%20427%20Computational%20Physics/Lectures/Lecture%2021/demo.ipynb#W2sZmlsZQ%3D%3D?line=23'>24</a>\u001b[0m f_prev \u001b[39m=\u001b[39m f\n",
      "File \u001b[0;32m/usr/lib/python3.11/site-packages/matplotlib/pyplot.py:1119\u001b[0m, in \u001b[0;36msavefig\u001b[0;34m(*args, **kwargs)\u001b[0m\n\u001b[1;32m   1116\u001b[0m fig \u001b[39m=\u001b[39m gcf()\n\u001b[1;32m   1117\u001b[0m \u001b[39m# savefig default implementation has no return, so mypy is unhappy\u001b[39;00m\n\u001b[1;32m   1118\u001b[0m \u001b[39m# presumably this is here because subclasses can return?\u001b[39;00m\n\u001b[0;32m-> 1119\u001b[0m res \u001b[39m=\u001b[39m fig\u001b[39m.\u001b[39;49msavefig(\u001b[39m*\u001b[39;49margs, \u001b[39m*\u001b[39;49m\u001b[39m*\u001b[39;49mkwargs)  \u001b[39m# type: ignore[func-returns-value]\u001b[39;00m\n\u001b[1;32m   1120\u001b[0m fig\u001b[39m.\u001b[39mcanvas\u001b[39m.\u001b[39mdraw_idle()  \u001b[39m# Need this if 'transparent=True', to reset colors.\u001b[39;00m\n\u001b[1;32m   1121\u001b[0m \u001b[39mreturn\u001b[39;00m res\n",
      "File \u001b[0;32m/usr/lib/python3.11/site-packages/matplotlib/figure.py:3390\u001b[0m, in \u001b[0;36mFigure.savefig\u001b[0;34m(self, fname, transparent, **kwargs)\u001b[0m\n\u001b[1;32m   3388\u001b[0m     \u001b[39mfor\u001b[39;00m ax \u001b[39min\u001b[39;00m \u001b[39mself\u001b[39m\u001b[39m.\u001b[39maxes:\n\u001b[1;32m   3389\u001b[0m         _recursively_make_axes_transparent(stack, ax)\n\u001b[0;32m-> 3390\u001b[0m \u001b[39mself\u001b[39;49m\u001b[39m.\u001b[39;49mcanvas\u001b[39m.\u001b[39;49mprint_figure(fname, \u001b[39m*\u001b[39;49m\u001b[39m*\u001b[39;49mkwargs)\n",
      "File \u001b[0;32m/usr/lib/python3.11/site-packages/matplotlib/backend_bases.py:2187\u001b[0m, in \u001b[0;36mFigureCanvasBase.print_figure\u001b[0;34m(self, filename, dpi, facecolor, edgecolor, orientation, format, bbox_inches, pad_inches, bbox_extra_artists, backend, **kwargs)\u001b[0m\n\u001b[1;32m   2183\u001b[0m \u001b[39mtry\u001b[39;00m:\n\u001b[1;32m   2184\u001b[0m     \u001b[39m# _get_renderer may change the figure dpi (as vector formats\u001b[39;00m\n\u001b[1;32m   2185\u001b[0m     \u001b[39m# force the figure dpi to 72), so we need to set it again here.\u001b[39;00m\n\u001b[1;32m   2186\u001b[0m     \u001b[39mwith\u001b[39;00m cbook\u001b[39m.\u001b[39m_setattr_cm(\u001b[39mself\u001b[39m\u001b[39m.\u001b[39mfigure, dpi\u001b[39m=\u001b[39mdpi):\n\u001b[0;32m-> 2187\u001b[0m         result \u001b[39m=\u001b[39m print_method(\n\u001b[1;32m   2188\u001b[0m             filename,\n\u001b[1;32m   2189\u001b[0m             facecolor\u001b[39m=\u001b[39;49mfacecolor,\n\u001b[1;32m   2190\u001b[0m             edgecolor\u001b[39m=\u001b[39;49medgecolor,\n\u001b[1;32m   2191\u001b[0m             orientation\u001b[39m=\u001b[39;49morientation,\n\u001b[1;32m   2192\u001b[0m             bbox_inches_restore\u001b[39m=\u001b[39;49m_bbox_inches_restore,\n\u001b[1;32m   2193\u001b[0m             \u001b[39m*\u001b[39;49m\u001b[39m*\u001b[39;49mkwargs)\n\u001b[1;32m   2194\u001b[0m \u001b[39mfinally\u001b[39;00m:\n\u001b[1;32m   2195\u001b[0m     \u001b[39mif\u001b[39;00m bbox_inches \u001b[39mand\u001b[39;00m restore_bbox:\n",
      "File \u001b[0;32m/usr/lib/python3.11/site-packages/matplotlib/backend_bases.py:2043\u001b[0m, in \u001b[0;36mFigureCanvasBase._switch_canvas_and_return_print_method.<locals>.<lambda>\u001b[0;34m(*args, **kwargs)\u001b[0m\n\u001b[1;32m   2039\u001b[0m     optional_kws \u001b[39m=\u001b[39m {  \u001b[39m# Passed by print_figure for other renderers.\u001b[39;00m\n\u001b[1;32m   2040\u001b[0m         \u001b[39m\"\u001b[39m\u001b[39mdpi\u001b[39m\u001b[39m\"\u001b[39m, \u001b[39m\"\u001b[39m\u001b[39mfacecolor\u001b[39m\u001b[39m\"\u001b[39m, \u001b[39m\"\u001b[39m\u001b[39medgecolor\u001b[39m\u001b[39m\"\u001b[39m, \u001b[39m\"\u001b[39m\u001b[39morientation\u001b[39m\u001b[39m\"\u001b[39m,\n\u001b[1;32m   2041\u001b[0m         \u001b[39m\"\u001b[39m\u001b[39mbbox_inches_restore\u001b[39m\u001b[39m\"\u001b[39m}\n\u001b[1;32m   2042\u001b[0m     skip \u001b[39m=\u001b[39m optional_kws \u001b[39m-\u001b[39m {\u001b[39m*\u001b[39minspect\u001b[39m.\u001b[39msignature(meth)\u001b[39m.\u001b[39mparameters}\n\u001b[0;32m-> 2043\u001b[0m     print_method \u001b[39m=\u001b[39m functools\u001b[39m.\u001b[39mwraps(meth)(\u001b[39mlambda\u001b[39;00m \u001b[39m*\u001b[39margs, \u001b[39m*\u001b[39m\u001b[39m*\u001b[39mkwargs: meth(\n\u001b[1;32m   2044\u001b[0m         \u001b[39m*\u001b[39;49margs, \u001b[39m*\u001b[39;49m\u001b[39m*\u001b[39;49m{k: v \u001b[39mfor\u001b[39;49;00m k, v \u001b[39min\u001b[39;49;00m kwargs\u001b[39m.\u001b[39;49mitems() \u001b[39mif\u001b[39;49;00m k \u001b[39mnot\u001b[39;49;00m \u001b[39min\u001b[39;49;00m skip}))\n\u001b[1;32m   2045\u001b[0m \u001b[39melse\u001b[39;00m:  \u001b[39m# Let third-parties do as they see fit.\u001b[39;00m\n\u001b[1;32m   2046\u001b[0m     print_method \u001b[39m=\u001b[39m meth\n",
      "File \u001b[0;32m/usr/lib/python3.11/site-packages/matplotlib/backends/backend_agg.py:497\u001b[0m, in \u001b[0;36mFigureCanvasAgg.print_png\u001b[0;34m(self, filename_or_obj, metadata, pil_kwargs)\u001b[0m\n\u001b[1;32m    450\u001b[0m \u001b[39mdef\u001b[39;00m \u001b[39mprint_png\u001b[39m(\u001b[39mself\u001b[39m, filename_or_obj, \u001b[39m*\u001b[39m, metadata\u001b[39m=\u001b[39m\u001b[39mNone\u001b[39;00m, pil_kwargs\u001b[39m=\u001b[39m\u001b[39mNone\u001b[39;00m):\n\u001b[1;32m    451\u001b[0m \u001b[39m    \u001b[39m\u001b[39m\"\"\"\u001b[39;00m\n\u001b[1;32m    452\u001b[0m \u001b[39m    Write the figure to a PNG file.\u001b[39;00m\n\u001b[1;32m    453\u001b[0m \n\u001b[0;32m   (...)\u001b[0m\n\u001b[1;32m    495\u001b[0m \u001b[39m        *metadata*, including the default 'Software' key.\u001b[39;00m\n\u001b[1;32m    496\u001b[0m \u001b[39m    \"\"\"\u001b[39;00m\n\u001b[0;32m--> 497\u001b[0m     \u001b[39mself\u001b[39;49m\u001b[39m.\u001b[39;49m_print_pil(filename_or_obj, \u001b[39m\"\u001b[39;49m\u001b[39mpng\u001b[39;49m\u001b[39m\"\u001b[39;49m, pil_kwargs, metadata)\n",
      "File \u001b[0;32m/usr/lib/python3.11/site-packages/matplotlib/backends/backend_agg.py:446\u001b[0m, in \u001b[0;36mFigureCanvasAgg._print_pil\u001b[0;34m(self, filename_or_obj, fmt, pil_kwargs, metadata)\u001b[0m\n\u001b[1;32m    441\u001b[0m \u001b[39m\u001b[39m\u001b[39m\"\"\"\u001b[39;00m\n\u001b[1;32m    442\u001b[0m \u001b[39mDraw the canvas, then save it using `.image.imsave` (to which\u001b[39;00m\n\u001b[1;32m    443\u001b[0m \u001b[39m*pil_kwargs* and *metadata* are forwarded).\u001b[39;00m\n\u001b[1;32m    444\u001b[0m \u001b[39m\"\"\"\u001b[39;00m\n\u001b[1;32m    445\u001b[0m FigureCanvasAgg\u001b[39m.\u001b[39mdraw(\u001b[39mself\u001b[39m)\n\u001b[0;32m--> 446\u001b[0m mpl\u001b[39m.\u001b[39;49mimage\u001b[39m.\u001b[39;49mimsave(\n\u001b[1;32m    447\u001b[0m     filename_or_obj, \u001b[39mself\u001b[39;49m\u001b[39m.\u001b[39;49mbuffer_rgba(), \u001b[39mformat\u001b[39;49m\u001b[39m=\u001b[39;49mfmt, origin\u001b[39m=\u001b[39;49m\u001b[39m\"\u001b[39;49m\u001b[39mupper\u001b[39;49m\u001b[39m\"\u001b[39;49m,\n\u001b[1;32m    448\u001b[0m     dpi\u001b[39m=\u001b[39;49m\u001b[39mself\u001b[39;49m\u001b[39m.\u001b[39;49mfigure\u001b[39m.\u001b[39;49mdpi, metadata\u001b[39m=\u001b[39;49mmetadata, pil_kwargs\u001b[39m=\u001b[39;49mpil_kwargs)\n",
      "File \u001b[0;32m/usr/lib/python3.11/site-packages/matplotlib/image.py:1656\u001b[0m, in \u001b[0;36mimsave\u001b[0;34m(fname, arr, vmin, vmax, cmap, format, origin, dpi, metadata, pil_kwargs)\u001b[0m\n\u001b[1;32m   1654\u001b[0m pil_kwargs\u001b[39m.\u001b[39msetdefault(\u001b[39m\"\u001b[39m\u001b[39mformat\u001b[39m\u001b[39m\"\u001b[39m, \u001b[39mformat\u001b[39m)\n\u001b[1;32m   1655\u001b[0m pil_kwargs\u001b[39m.\u001b[39msetdefault(\u001b[39m\"\u001b[39m\u001b[39mdpi\u001b[39m\u001b[39m\"\u001b[39m, (dpi, dpi))\n\u001b[0;32m-> 1656\u001b[0m image\u001b[39m.\u001b[39;49msave(fname, \u001b[39m*\u001b[39;49m\u001b[39m*\u001b[39;49mpil_kwargs)\n",
      "File \u001b[0;32m/usr/lib/python3.11/site-packages/PIL/Image.py:2413\u001b[0m, in \u001b[0;36mImage.save\u001b[0;34m(self, fp, format, **params)\u001b[0m\n\u001b[1;32m   2410\u001b[0m         fp \u001b[39m=\u001b[39m builtins\u001b[39m.\u001b[39mopen(filename, \u001b[39m\"\u001b[39m\u001b[39mw+b\u001b[39m\u001b[39m\"\u001b[39m)\n\u001b[1;32m   2412\u001b[0m \u001b[39mtry\u001b[39;00m:\n\u001b[0;32m-> 2413\u001b[0m     save_handler(\u001b[39mself\u001b[39;49m, fp, filename)\n\u001b[1;32m   2414\u001b[0m \u001b[39mexcept\u001b[39;00m \u001b[39mException\u001b[39;00m:\n\u001b[1;32m   2415\u001b[0m     \u001b[39mif\u001b[39;00m open_fp:\n",
      "File \u001b[0;32m/usr/lib/python3.11/site-packages/PIL/PngImagePlugin.py:1398\u001b[0m, in \u001b[0;36m_save\u001b[0;34m(im, fp, filename, chunk, save_all)\u001b[0m\n\u001b[1;32m   1396\u001b[0m     _write_multiple_frames(im, fp, chunk, rawmode, default_image, append_images)\n\u001b[1;32m   1397\u001b[0m \u001b[39melse\u001b[39;00m:\n\u001b[0;32m-> 1398\u001b[0m     ImageFile\u001b[39m.\u001b[39;49m_save(im, _idat(fp, chunk), [(\u001b[39m\"\u001b[39;49m\u001b[39mzip\u001b[39;49m\u001b[39m\"\u001b[39;49m, (\u001b[39m0\u001b[39;49m, \u001b[39m0\u001b[39;49m) \u001b[39m+\u001b[39;49m im\u001b[39m.\u001b[39;49msize, \u001b[39m0\u001b[39;49m, rawmode)])\n\u001b[1;32m   1400\u001b[0m \u001b[39mif\u001b[39;00m info:\n\u001b[1;32m   1401\u001b[0m     \u001b[39mfor\u001b[39;00m info_chunk \u001b[39min\u001b[39;00m info\u001b[39m.\u001b[39mchunks:\n",
      "File \u001b[0;32m/usr/lib/python3.11/site-packages/PIL/ImageFile.py:519\u001b[0m, in \u001b[0;36m_save\u001b[0;34m(im, fp, tile, bufsize)\u001b[0m\n\u001b[1;32m    517\u001b[0m     _encode_tile(im, fp, tile, bufsize, fh)\n\u001b[1;32m    518\u001b[0m \u001b[39mexcept\u001b[39;00m (\u001b[39mAttributeError\u001b[39;00m, io\u001b[39m.\u001b[39mUnsupportedOperation) \u001b[39mas\u001b[39;00m exc:\n\u001b[0;32m--> 519\u001b[0m     _encode_tile(im, fp, tile, bufsize, \u001b[39mNone\u001b[39;49;00m, exc)\n\u001b[1;32m    520\u001b[0m \u001b[39mif\u001b[39;00m \u001b[39mhasattr\u001b[39m(fp, \u001b[39m\"\u001b[39m\u001b[39mflush\u001b[39m\u001b[39m\"\u001b[39m):\n\u001b[1;32m    521\u001b[0m     fp\u001b[39m.\u001b[39mflush()\n",
      "File \u001b[0;32m/usr/lib/python3.11/site-packages/PIL/ImageFile.py:538\u001b[0m, in \u001b[0;36m_encode_tile\u001b[0;34m(im, fp, tile, bufsize, fh, exc)\u001b[0m\n\u001b[1;32m    535\u001b[0m \u001b[39mif\u001b[39;00m exc:\n\u001b[1;32m    536\u001b[0m     \u001b[39m# compress to Python file-compatible object\u001b[39;00m\n\u001b[1;32m    537\u001b[0m     \u001b[39mwhile\u001b[39;00m \u001b[39mTrue\u001b[39;00m:\n\u001b[0;32m--> 538\u001b[0m         errcode, data \u001b[39m=\u001b[39m encoder\u001b[39m.\u001b[39;49mencode(bufsize)[\u001b[39m1\u001b[39m:]\n\u001b[1;32m    539\u001b[0m         fp\u001b[39m.\u001b[39mwrite(data)\n\u001b[1;32m    540\u001b[0m         \u001b[39mif\u001b[39;00m errcode:\n",
      "\u001b[0;31mKeyboardInterrupt\u001b[0m: "
     ]
    },
    {
     "data": {
      "image/png": "[encoded data removed]",
      "text/plain": [
       "<Figure size 640x480 with 1 Axes>"
      ]
     },
     "metadata": {},
     "output_type": "display_data"
    }
   ],
   "source": [
    "nx = 300\n",
    "lx = 1.0\n",
    "xs = np.linspace(0, lx, nx)\n",
    "dx = xs[1] - xs[0]\n",
    "dt = 0.9 * lx / nx\n",
    "\n",
    "# f1 = np.exp(-((xs - 0.5) / 0.1)**2)\n",
    "f1 = np.where((xs < 0.45) & (xs > 0.4), 1.0, 0.0)\n",
    "f = solve_upwind(f1, 1.0, dx, dt)\n",
    "# f = f1\n",
    "\n",
    "freq = 3\n",
    "for i in range(nx * 2):\n",
    "    if i % freq == 0:\n",
    "        plt.plot(xs, f1)\n",
    "        ax = plt.gca()\n",
    "        ax.set_xlabel(\"$x$\")\n",
    "        ax.set_ylabel(\"$u$\")\n",
    "        ax.set_ylim(-2.0, 3.0)\n",
    "        ax.set_xlim(0.0, 1.0)\n",
    "        ax.axhline(0.0, color='r', ls='--')\n",
    "        plt.savefig(\"fig%03d.png\" % (i/freq))\n",
    "        plt.close()\n",
    "    f_prev = f\n",
    "    f = solve_leapfrog(f, f1, 1.0, dx, dt)\n",
    "    f1 = f_prev\n",
    "    # f = solve_lax(f, 1.0, dx, dt)"
   ]
  },
  {
   "cell_type": "code",
   "execution_count": 58,
   "metadata": {},
   "outputs": [],
   "source": [
    "nx = 300\n",
    "lx = 1.0\n",
    "xs = np.linspace(0, lx, nx)\n",
    "dx = xs[1] - xs[0]\n",
    "dt = lx / nx\n",
    "\n",
    "# f = np.exp(-((xs - 0.5) / 0.1)**2)\n",
    "f = np.where((xs < 0.45) & (xs > 0.4), 1.0, 0.0)\n",
    "\n",
    "freq = 3\n",
    "for i in range(nx * 2):\n",
    "    if i % freq == 0:\n",
    "        plt.plot(xs, f)\n",
    "        ax = plt.gca()\n",
    "        ax.set_xlabel(\"$x$\")\n",
    "        ax.set_ylabel(\"$u$\")\n",
    "        ax.set_ylim(-2.0, 3.0)\n",
    "        ax.set_xlim(0.0, 1.0)\n",
    "        ax.axhline(0.0, color='r', ls='--')\n",
    "        plt.savefig(\"fig%03d.png\" % (i/freq))\n",
    "        plt.close()\n",
    "    f = solve_lax_wendroff(f, 1.0, dx, dt)"
   ]
  },
  {
   "cell_type": "code",
   "execution_count": null,
   "metadata": {},
   "outputs": [],
   "source": []
  }
 ],
 "metadata": {
  "kernelspec": {
   "display_name": "Python 3",
   "language": "python",
   "name": "python3"
  },
  "language_info": {
   "codemirror_mode": {
    "name": "ipython",
    "version": 3
   },
   "file_extension": ".py",
   "mimetype": "text/x-python",
   "name": "python",
   "nbconvert_exporter": "python",
   "pygments_lexer": "ipython3",
   "version": "3.11.5"
  }
 },
 "nbformat": 4,
 "nbformat_minor": 2
}
